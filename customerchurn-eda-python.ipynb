{
 "cells": [
  {
   "cell_type": "markdown",
   "id": "bd1ebd84",
   "metadata": {
    "papermill": {
     "duration": 0.016362,
     "end_time": "2024-01-19T13:23:43.882937",
     "exception": false,
     "start_time": "2024-01-19T13:23:43.866575",
     "status": "completed"
    },
    "tags": []
   },
   "source": [
    "# 1. Load the dataset"
   ]
  },
  {
   "cell_type": "code",
   "execution_count": 1,
   "id": "2680e79f",
   "metadata": {
    "execution": {
     "iopub.execute_input": "2024-01-19T13:23:43.915142Z",
     "iopub.status.busy": "2024-01-19T13:23:43.914729Z",
     "iopub.status.idle": "2024-01-19T13:23:45.816341Z",
     "shell.execute_reply": "2024-01-19T13:23:45.814912Z"
    },
    "papermill": {
     "duration": 1.921272,
     "end_time": "2024-01-19T13:23:45.819417",
     "exception": false,
     "start_time": "2024-01-19T13:23:43.898145",
     "status": "completed"
    },
    "tags": []
   },
   "outputs": [],
   "source": [
    "#import the required libraries\n",
    "import numpy as np  \n",
    "import seaborn as sns \n",
    "import matplotlib.ticker as mtick  \n",
    "import matplotlib.pyplot as plt\n",
    "%matplotlib inline\n",
    "import scipy.stats as stats"
   ]
  },
  {
   "cell_type": "code",
   "execution_count": 2,
   "id": "57668e7b",
   "metadata": {
    "execution": {
     "iopub.execute_input": "2024-01-19T13:23:45.851362Z",
     "iopub.status.busy": "2024-01-19T13:23:45.850815Z",
     "iopub.status.idle": "2024-01-19T13:23:45.965490Z",
     "shell.execute_reply": "2024-01-19T13:23:45.964649Z"
    },
    "papermill": {
     "duration": 0.133097,
     "end_time": "2024-01-19T13:23:45.967574",
     "exception": false,
     "start_time": "2024-01-19T13:23:45.834477",
     "status": "completed"
    },
    "tags": []
   },
   "outputs": [
    {
     "data": {
      "text/html": [
       "<div>\n",
       "<style scoped>\n",
       "    .dataframe tbody tr th:only-of-type {\n",
       "        vertical-align: middle;\n",
       "    }\n",
       "\n",
       "    .dataframe tbody tr th {\n",
       "        vertical-align: top;\n",
       "    }\n",
       "\n",
       "    .dataframe thead th {\n",
       "        text-align: right;\n",
       "    }\n",
       "</style>\n",
       "<table border=\"1\" class=\"dataframe\">\n",
       "  <thead>\n",
       "    <tr style=\"text-align: right;\">\n",
       "      <th></th>\n",
       "      <th>customerID</th>\n",
       "      <th>gender</th>\n",
       "      <th>SeniorCitizen</th>\n",
       "      <th>Partner</th>\n",
       "      <th>Dependents</th>\n",
       "      <th>tenure</th>\n",
       "      <th>PhoneService</th>\n",
       "      <th>MultipleLines</th>\n",
       "      <th>InternetService</th>\n",
       "      <th>OnlineSecurity</th>\n",
       "      <th>...</th>\n",
       "      <th>DeviceProtection</th>\n",
       "      <th>TechSupport</th>\n",
       "      <th>StreamingTV</th>\n",
       "      <th>StreamingMovies</th>\n",
       "      <th>Contract</th>\n",
       "      <th>PaperlessBilling</th>\n",
       "      <th>PaymentMethod</th>\n",
       "      <th>MonthlyCharges</th>\n",
       "      <th>TotalCharges</th>\n",
       "      <th>Churn</th>\n",
       "    </tr>\n",
       "  </thead>\n",
       "  <tbody>\n",
       "    <tr>\n",
       "      <th>0</th>\n",
       "      <td>7590-VHVEG</td>\n",
       "      <td>Female</td>\n",
       "      <td>0</td>\n",
       "      <td>Yes</td>\n",
       "      <td>No</td>\n",
       "      <td>1</td>\n",
       "      <td>No</td>\n",
       "      <td>No phone service</td>\n",
       "      <td>DSL</td>\n",
       "      <td>No</td>\n",
       "      <td>...</td>\n",
       "      <td>No</td>\n",
       "      <td>No</td>\n",
       "      <td>No</td>\n",
       "      <td>No</td>\n",
       "      <td>Month-to-month</td>\n",
       "      <td>Yes</td>\n",
       "      <td>Electronic check</td>\n",
       "      <td>29.85</td>\n",
       "      <td>29.85</td>\n",
       "      <td>No</td>\n",
       "    </tr>\n",
       "    <tr>\n",
       "      <th>1</th>\n",
       "      <td>5575-GNVDE</td>\n",
       "      <td>Male</td>\n",
       "      <td>0</td>\n",
       "      <td>No</td>\n",
       "      <td>No</td>\n",
       "      <td>34</td>\n",
       "      <td>Yes</td>\n",
       "      <td>No</td>\n",
       "      <td>DSL</td>\n",
       "      <td>Yes</td>\n",
       "      <td>...</td>\n",
       "      <td>Yes</td>\n",
       "      <td>No</td>\n",
       "      <td>No</td>\n",
       "      <td>No</td>\n",
       "      <td>One year</td>\n",
       "      <td>No</td>\n",
       "      <td>Mailed check</td>\n",
       "      <td>56.95</td>\n",
       "      <td>1889.5</td>\n",
       "      <td>No</td>\n",
       "    </tr>\n",
       "    <tr>\n",
       "      <th>2</th>\n",
       "      <td>3668-QPYBK</td>\n",
       "      <td>Male</td>\n",
       "      <td>0</td>\n",
       "      <td>No</td>\n",
       "      <td>No</td>\n",
       "      <td>2</td>\n",
       "      <td>Yes</td>\n",
       "      <td>No</td>\n",
       "      <td>DSL</td>\n",
       "      <td>Yes</td>\n",
       "      <td>...</td>\n",
       "      <td>No</td>\n",
       "      <td>No</td>\n",
       "      <td>No</td>\n",
       "      <td>No</td>\n",
       "      <td>Month-to-month</td>\n",
       "      <td>Yes</td>\n",
       "      <td>Mailed check</td>\n",
       "      <td>53.85</td>\n",
       "      <td>108.15</td>\n",
       "      <td>Yes</td>\n",
       "    </tr>\n",
       "    <tr>\n",
       "      <th>3</th>\n",
       "      <td>7795-CFOCW</td>\n",
       "      <td>Male</td>\n",
       "      <td>0</td>\n",
       "      <td>No</td>\n",
       "      <td>No</td>\n",
       "      <td>45</td>\n",
       "      <td>No</td>\n",
       "      <td>No phone service</td>\n",
       "      <td>DSL</td>\n",
       "      <td>Yes</td>\n",
       "      <td>...</td>\n",
       "      <td>Yes</td>\n",
       "      <td>Yes</td>\n",
       "      <td>No</td>\n",
       "      <td>No</td>\n",
       "      <td>One year</td>\n",
       "      <td>No</td>\n",
       "      <td>Bank transfer (automatic)</td>\n",
       "      <td>42.30</td>\n",
       "      <td>1840.75</td>\n",
       "      <td>No</td>\n",
       "    </tr>\n",
       "    <tr>\n",
       "      <th>4</th>\n",
       "      <td>9237-HQITU</td>\n",
       "      <td>Female</td>\n",
       "      <td>0</td>\n",
       "      <td>No</td>\n",
       "      <td>No</td>\n",
       "      <td>2</td>\n",
       "      <td>Yes</td>\n",
       "      <td>No</td>\n",
       "      <td>Fiber optic</td>\n",
       "      <td>No</td>\n",
       "      <td>...</td>\n",
       "      <td>No</td>\n",
       "      <td>No</td>\n",
       "      <td>No</td>\n",
       "      <td>No</td>\n",
       "      <td>Month-to-month</td>\n",
       "      <td>Yes</td>\n",
       "      <td>Electronic check</td>\n",
       "      <td>70.70</td>\n",
       "      <td>151.65</td>\n",
       "      <td>Yes</td>\n",
       "    </tr>\n",
       "  </tbody>\n",
       "</table>\n",
       "<p>5 rows × 21 columns</p>\n",
       "</div>"
      ],
      "text/plain": [
       "   customerID  gender  SeniorCitizen Partner Dependents  tenure PhoneService  \\\n",
       "0  7590-VHVEG  Female              0     Yes         No       1           No   \n",
       "1  5575-GNVDE    Male              0      No         No      34          Yes   \n",
       "2  3668-QPYBK    Male              0      No         No       2          Yes   \n",
       "3  7795-CFOCW    Male              0      No         No      45           No   \n",
       "4  9237-HQITU  Female              0      No         No       2          Yes   \n",
       "\n",
       "      MultipleLines InternetService OnlineSecurity  ... DeviceProtection  \\\n",
       "0  No phone service             DSL             No  ...               No   \n",
       "1                No             DSL            Yes  ...              Yes   \n",
       "2                No             DSL            Yes  ...               No   \n",
       "3  No phone service             DSL            Yes  ...              Yes   \n",
       "4                No     Fiber optic             No  ...               No   \n",
       "\n",
       "  TechSupport StreamingTV StreamingMovies        Contract PaperlessBilling  \\\n",
       "0          No          No              No  Month-to-month              Yes   \n",
       "1          No          No              No        One year               No   \n",
       "2          No          No              No  Month-to-month              Yes   \n",
       "3         Yes          No              No        One year               No   \n",
       "4          No          No              No  Month-to-month              Yes   \n",
       "\n",
       "               PaymentMethod MonthlyCharges  TotalCharges Churn  \n",
       "0           Electronic check          29.85         29.85    No  \n",
       "1               Mailed check          56.95        1889.5    No  \n",
       "2               Mailed check          53.85        108.15   Yes  \n",
       "3  Bank transfer (automatic)          42.30       1840.75    No  \n",
       "4           Electronic check          70.70        151.65   Yes  \n",
       "\n",
       "[5 rows x 21 columns]"
      ]
     },
     "execution_count": 2,
     "metadata": {},
     "output_type": "execute_result"
    }
   ],
   "source": [
    "import pandas as pd\n",
    "df = pd.read_csv(\"/kaggle/input/cuschurndataset/Customer_churn_dataset.csv\")\n",
    "df.head()"
   ]
  },
  {
   "cell_type": "code",
   "execution_count": 3,
   "id": "41a5656e",
   "metadata": {
    "execution": {
     "iopub.execute_input": "2024-01-19T13:23:46.001421Z",
     "iopub.status.busy": "2024-01-19T13:23:46.000640Z",
     "iopub.status.idle": "2024-01-19T13:23:46.007295Z",
     "shell.execute_reply": "2024-01-19T13:23:46.006198Z"
    },
    "papermill": {
     "duration": 0.026442,
     "end_time": "2024-01-19T13:23:46.009886",
     "exception": false,
     "start_time": "2024-01-19T13:23:45.983444",
     "status": "completed"
    },
    "tags": []
   },
   "outputs": [
    {
     "data": {
      "text/plain": [
       "(7043, 21)"
      ]
     },
     "execution_count": 3,
     "metadata": {},
     "output_type": "execute_result"
    }
   ],
   "source": [
    "df.shape"
   ]
  },
  {
   "cell_type": "markdown",
   "id": "d3c03d53",
   "metadata": {
    "papermill": {
     "duration": 0.016176,
     "end_time": "2024-01-19T13:23:46.041902",
     "exception": false,
     "start_time": "2024-01-19T13:23:46.025726",
     "status": "completed"
    },
    "tags": []
   },
   "source": [
    "# 2. DATA CLEANING\n",
    "## 2.1 Xử lý giá trị null"
   ]
  },
  {
   "cell_type": "code",
   "execution_count": 4,
   "id": "4f5d182a",
   "metadata": {
    "execution": {
     "iopub.execute_input": "2024-01-19T13:23:46.076196Z",
     "iopub.status.busy": "2024-01-19T13:23:46.075454Z",
     "iopub.status.idle": "2024-01-19T13:23:46.097305Z",
     "shell.execute_reply": "2024-01-19T13:23:46.096107Z"
    },
    "papermill": {
     "duration": 0.04169,
     "end_time": "2024-01-19T13:23:46.099720",
     "exception": false,
     "start_time": "2024-01-19T13:23:46.058030",
     "status": "completed"
    },
    "tags": []
   },
   "outputs": [
    {
     "name": "stdout",
     "output_type": "stream",
     "text": [
      "Số lượng giá trị null cho mỗi cột: \n",
      "customerID          0\n",
      "gender              0\n",
      "SeniorCitizen       0\n",
      "Partner             0\n",
      "Dependents          0\n",
      "tenure              0\n",
      "PhoneService        0\n",
      "MultipleLines       0\n",
      "InternetService     0\n",
      "OnlineSecurity      0\n",
      "OnlineBackup        0\n",
      "DeviceProtection    0\n",
      "TechSupport         0\n",
      "StreamingTV         0\n",
      "StreamingMovies     0\n",
      "Contract            0\n",
      "PaperlessBilling    0\n",
      "PaymentMethod       0\n",
      "MonthlyCharges      0\n",
      "TotalCharges        0\n",
      "Churn               0\n",
      "dtype: int64\n"
     ]
    }
   ],
   "source": [
    "null_values = df.isnull().sum()\n",
    "print(\"Số lượng giá trị null cho mỗi cột: \")\n",
    "print(null_values)"
   ]
  },
  {
   "cell_type": "markdown",
   "id": "e0141bab",
   "metadata": {
    "papermill": {
     "duration": 0.016993,
     "end_time": "2024-01-19T13:23:46.132733",
     "exception": false,
     "start_time": "2024-01-19T13:23:46.115740",
     "status": "completed"
    },
    "tags": []
   },
   "source": [
    "## 2.2 Xử lý giá trị trùng lặp"
   ]
  },
  {
   "cell_type": "code",
   "execution_count": 5,
   "id": "16b4c53a",
   "metadata": {
    "execution": {
     "iopub.execute_input": "2024-01-19T13:23:46.167468Z",
     "iopub.status.busy": "2024-01-19T13:23:46.166515Z",
     "iopub.status.idle": "2024-01-19T13:23:46.198823Z",
     "shell.execute_reply": "2024-01-19T13:23:46.197379Z"
    },
    "papermill": {
     "duration": 0.052464,
     "end_time": "2024-01-19T13:23:46.201708",
     "exception": false,
     "start_time": "2024-01-19T13:23:46.149244",
     "status": "completed"
    },
    "tags": []
   },
   "outputs": [
    {
     "name": "stdout",
     "output_type": "stream",
     "text": [
      "Số lượng giá trị trùng lặp: 0\n"
     ]
    }
   ],
   "source": [
    "duplicate_values = df.duplicated()\n",
    "print(\"Số lượng giá trị trùng lặp:\", duplicate_values.sum())"
   ]
  },
  {
   "cell_type": "markdown",
   "id": "26a713b3",
   "metadata": {
    "papermill": {
     "duration": 0.015607,
     "end_time": "2024-01-19T13:23:46.233250",
     "exception": false,
     "start_time": "2024-01-19T13:23:46.217643",
     "status": "completed"
    },
    "tags": []
   },
   "source": [
    "## 2.3 Xác định tên các cột và kiểu dữ liệu "
   ]
  },
  {
   "cell_type": "code",
   "execution_count": 6,
   "id": "ffe6a102",
   "metadata": {
    "execution": {
     "iopub.execute_input": "2024-01-19T13:23:46.267264Z",
     "iopub.status.busy": "2024-01-19T13:23:46.266801Z",
     "iopub.status.idle": "2024-01-19T13:23:46.358162Z",
     "shell.execute_reply": "2024-01-19T13:23:46.356839Z"
    },
    "papermill": {
     "duration": 0.111226,
     "end_time": "2024-01-19T13:23:46.360612",
     "exception": false,
     "start_time": "2024-01-19T13:23:46.249386",
     "status": "completed"
    },
    "tags": []
   },
   "outputs": [
    {
     "data": {
      "text/plain": [
       "array(['customerID', 'gender', 'SeniorCitizen', 'Partner', 'Dependents',\n",
       "       'tenure', 'PhoneService', 'MultipleLines', 'InternetService',\n",
       "       'OnlineSecurity', 'OnlineBackup', 'DeviceProtection',\n",
       "       'TechSupport', 'StreamingTV', 'StreamingMovies', 'Contract',\n",
       "       'PaperlessBilling', 'PaymentMethod', 'MonthlyCharges',\n",
       "       'TotalCharges', 'Churn'], dtype=object)"
      ]
     },
     "execution_count": 6,
     "metadata": {},
     "output_type": "execute_result"
    }
   ],
   "source": [
    "df.columns.values"
   ]
  },
  {
   "cell_type": "code",
   "execution_count": 7,
   "id": "ac715b16",
   "metadata": {
    "execution": {
     "iopub.execute_input": "2024-01-19T13:23:46.395163Z",
     "iopub.status.busy": "2024-01-19T13:23:46.394746Z",
     "iopub.status.idle": "2024-01-19T13:23:46.402655Z",
     "shell.execute_reply": "2024-01-19T13:23:46.401844Z"
    },
    "papermill": {
     "duration": 0.02785,
     "end_time": "2024-01-19T13:23:46.405148",
     "exception": false,
     "start_time": "2024-01-19T13:23:46.377298",
     "status": "completed"
    },
    "tags": []
   },
   "outputs": [
    {
     "data": {
      "text/plain": [
       "customerID           object\n",
       "gender               object\n",
       "SeniorCitizen         int64\n",
       "Partner              object\n",
       "Dependents           object\n",
       "tenure                int64\n",
       "PhoneService         object\n",
       "MultipleLines        object\n",
       "InternetService      object\n",
       "OnlineSecurity       object\n",
       "OnlineBackup         object\n",
       "DeviceProtection     object\n",
       "TechSupport          object\n",
       "StreamingTV          object\n",
       "StreamingMovies      object\n",
       "Contract             object\n",
       "PaperlessBilling     object\n",
       "PaymentMethod        object\n",
       "MonthlyCharges      float64\n",
       "TotalCharges         object\n",
       "Churn                object\n",
       "dtype: object"
      ]
     },
     "execution_count": 7,
     "metadata": {},
     "output_type": "execute_result"
    }
   ],
   "source": [
    "df.dtypes"
   ]
  },
  {
   "cell_type": "markdown",
   "id": "669f57a8",
   "metadata": {
    "papermill": {
     "duration": 0.015835,
     "end_time": "2024-01-19T13:23:46.500249",
     "exception": false,
     "start_time": "2024-01-19T13:23:46.484414",
     "status": "completed"
    },
    "tags": []
   },
   "source": [
    "## 2.4 Phân tích thống kê mô tả"
   ]
  },
  {
   "cell_type": "code",
   "execution_count": 8,
   "id": "03288c81",
   "metadata": {
    "execution": {
     "iopub.execute_input": "2024-01-19T13:23:46.534611Z",
     "iopub.status.busy": "2024-01-19T13:23:46.534233Z",
     "iopub.status.idle": "2024-01-19T13:23:46.559043Z",
     "shell.execute_reply": "2024-01-19T13:23:46.557842Z"
    },
    "papermill": {
     "duration": 0.045102,
     "end_time": "2024-01-19T13:23:46.561718",
     "exception": false,
     "start_time": "2024-01-19T13:23:46.516616",
     "status": "completed"
    },
    "tags": []
   },
   "outputs": [
    {
     "data": {
      "text/html": [
       "<div>\n",
       "<style scoped>\n",
       "    .dataframe tbody tr th:only-of-type {\n",
       "        vertical-align: middle;\n",
       "    }\n",
       "\n",
       "    .dataframe tbody tr th {\n",
       "        vertical-align: top;\n",
       "    }\n",
       "\n",
       "    .dataframe thead th {\n",
       "        text-align: right;\n",
       "    }\n",
       "</style>\n",
       "<table border=\"1\" class=\"dataframe\">\n",
       "  <thead>\n",
       "    <tr style=\"text-align: right;\">\n",
       "      <th></th>\n",
       "      <th>SeniorCitizen</th>\n",
       "      <th>tenure</th>\n",
       "      <th>MonthlyCharges</th>\n",
       "    </tr>\n",
       "  </thead>\n",
       "  <tbody>\n",
       "    <tr>\n",
       "      <th>count</th>\n",
       "      <td>7043.000000</td>\n",
       "      <td>7043.000000</td>\n",
       "      <td>7043.000000</td>\n",
       "    </tr>\n",
       "    <tr>\n",
       "      <th>mean</th>\n",
       "      <td>0.162147</td>\n",
       "      <td>32.371149</td>\n",
       "      <td>64.761692</td>\n",
       "    </tr>\n",
       "    <tr>\n",
       "      <th>std</th>\n",
       "      <td>0.368612</td>\n",
       "      <td>24.559481</td>\n",
       "      <td>30.090047</td>\n",
       "    </tr>\n",
       "    <tr>\n",
       "      <th>min</th>\n",
       "      <td>0.000000</td>\n",
       "      <td>0.000000</td>\n",
       "      <td>18.250000</td>\n",
       "    </tr>\n",
       "    <tr>\n",
       "      <th>25%</th>\n",
       "      <td>0.000000</td>\n",
       "      <td>9.000000</td>\n",
       "      <td>35.500000</td>\n",
       "    </tr>\n",
       "    <tr>\n",
       "      <th>50%</th>\n",
       "      <td>0.000000</td>\n",
       "      <td>29.000000</td>\n",
       "      <td>70.350000</td>\n",
       "    </tr>\n",
       "    <tr>\n",
       "      <th>75%</th>\n",
       "      <td>0.000000</td>\n",
       "      <td>55.000000</td>\n",
       "      <td>89.850000</td>\n",
       "    </tr>\n",
       "    <tr>\n",
       "      <th>max</th>\n",
       "      <td>1.000000</td>\n",
       "      <td>72.000000</td>\n",
       "      <td>118.750000</td>\n",
       "    </tr>\n",
       "  </tbody>\n",
       "</table>\n",
       "</div>"
      ],
      "text/plain": [
       "       SeniorCitizen       tenure  MonthlyCharges\n",
       "count    7043.000000  7043.000000     7043.000000\n",
       "mean        0.162147    32.371149       64.761692\n",
       "std         0.368612    24.559481       30.090047\n",
       "min         0.000000     0.000000       18.250000\n",
       "25%         0.000000     9.000000       35.500000\n",
       "50%         0.000000    29.000000       70.350000\n",
       "75%         0.000000    55.000000       89.850000\n",
       "max         1.000000    72.000000      118.750000"
      ]
     },
     "execution_count": 8,
     "metadata": {},
     "output_type": "execute_result"
    }
   ],
   "source": [
    "df.describe()"
   ]
  },
  {
   "cell_type": "markdown",
   "id": "c14507be",
   "metadata": {
    "papermill": {
     "duration": 0.01671,
     "end_time": "2024-01-19T13:23:46.595180",
     "exception": false,
     "start_time": "2024-01-19T13:23:46.578470",
     "status": "completed"
    },
    "tags": []
   },
   "source": [
    "## 2.5 Xử lý biến mục tiêu Churn\n",
    "### a. Đếm số giá trị Yes và No "
   ]
  },
  {
   "cell_type": "code",
   "execution_count": 9,
   "id": "7049629f",
   "metadata": {
    "execution": {
     "iopub.execute_input": "2024-01-19T13:23:46.631485Z",
     "iopub.status.busy": "2024-01-19T13:23:46.630446Z",
     "iopub.status.idle": "2024-01-19T13:23:46.642240Z",
     "shell.execute_reply": "2024-01-19T13:23:46.640971Z"
    },
    "papermill": {
     "duration": 0.032419,
     "end_time": "2024-01-19T13:23:46.644725",
     "exception": false,
     "start_time": "2024-01-19T13:23:46.612306",
     "status": "completed"
    },
    "tags": []
   },
   "outputs": [
    {
     "data": {
      "text/plain": [
       "Churn\n",
       "No     5174\n",
       "Yes    1869\n",
       "Name: count, dtype: int64"
      ]
     },
     "execution_count": 9,
     "metadata": {},
     "output_type": "execute_result"
    }
   ],
   "source": [
    "df['Churn'].value_counts()"
   ]
  },
  {
   "cell_type": "markdown",
   "id": "b5079560",
   "metadata": {
    "papermill": {
     "duration": 0.016473,
     "end_time": "2024-01-19T13:23:46.677962",
     "exception": false,
     "start_time": "2024-01-19T13:23:46.661489",
     "status": "completed"
    },
    "tags": []
   },
   "source": [
    "### b. Trực quan hóa "
   ]
  },
  {
   "cell_type": "code",
   "execution_count": 10,
   "id": "226a4c0c",
   "metadata": {
    "execution": {
     "iopub.execute_input": "2024-01-19T13:23:46.713279Z",
     "iopub.status.busy": "2024-01-19T13:23:46.712901Z",
     "iopub.status.idle": "2024-01-19T13:23:47.023439Z",
     "shell.execute_reply": "2024-01-19T13:23:47.022310Z"
    },
    "papermill": {
     "duration": 0.331416,
     "end_time": "2024-01-19T13:23:47.026159",
     "exception": false,
     "start_time": "2024-01-19T13:23:46.694743",
     "status": "completed"
    },
    "tags": []
   },
   "outputs": [
    {
     "data": {
      "image/png": "[encoded data removed]",
      "text/plain": [
       "<Figure size 800x600 with 1 Axes>"
      ]
     },
     "metadata": {},
     "output_type": "display_data"
    }
   ],
   "source": [
    "df['Churn'].value_counts().plot(kind='barh', figsize=(8, 6))\n",
    "plt.xlabel(\"Count\", labelpad=14)\n",
    "plt.ylabel(\"Churn\", labelpad=14)\n",
    "plt.title(\"Count of churn\", y=1.02);"
   ]
  },
  {
   "cell_type": "markdown",
   "id": "db63fa0c",
   "metadata": {
    "papermill": {
     "duration": 0.016791,
     "end_time": "2024-01-19T13:23:47.060143",
     "exception": false,
     "start_time": "2024-01-19T13:23:47.043352",
     "status": "completed"
    },
    "tags": []
   },
   "source": [
    "### c. Tỉ lệ phần trăm "
   ]
  },
  {
   "cell_type": "code",
   "execution_count": 11,
   "id": "c4e36de4",
   "metadata": {
    "execution": {
     "iopub.execute_input": "2024-01-19T13:23:47.097188Z",
     "iopub.status.busy": "2024-01-19T13:23:47.096501Z",
     "iopub.status.idle": "2024-01-19T13:23:47.106451Z",
     "shell.execute_reply": "2024-01-19T13:23:47.105219Z"
    },
    "papermill": {
     "duration": 0.031738,
     "end_time": "2024-01-19T13:23:47.108951",
     "exception": false,
     "start_time": "2024-01-19T13:23:47.077213",
     "status": "completed"
    },
    "tags": []
   },
   "outputs": [
    {
     "data": {
      "text/plain": [
       "Churn\n",
       "No     73.463013\n",
       "Yes    26.536987\n",
       "Name: count, dtype: float64"
      ]
     },
     "execution_count": 11,
     "metadata": {},
     "output_type": "execute_result"
    }
   ],
   "source": [
    "100*df['Churn'].value_counts()/len(df['Churn'])"
   ]
  },
  {
   "cell_type": "markdown",
   "id": "491728a9",
   "metadata": {
    "papermill": {
     "duration": 0.017532,
     "end_time": "2024-01-19T13:23:47.144130",
     "exception": false,
     "start_time": "2024-01-19T13:23:47.126598",
     "status": "completed"
    },
    "tags": []
   },
   "source": [
    "### d. Tách biệt Numerical and Categorical feature"
   ]
  },
  {
   "cell_type": "code",
   "execution_count": 12,
   "id": "59b3f5d4",
   "metadata": {
    "execution": {
     "iopub.execute_input": "2024-01-19T13:23:47.181593Z",
     "iopub.status.busy": "2024-01-19T13:23:47.181201Z",
     "iopub.status.idle": "2024-01-19T13:23:47.666254Z",
     "shell.execute_reply": "2024-01-19T13:23:47.664790Z"
    },
    "papermill": {
     "duration": 0.505902,
     "end_time": "2024-01-19T13:23:47.668085",
     "exception": true,
     "start_time": "2024-01-19T13:23:47.162183",
     "status": "failed"
    },
    "tags": []
   },
   "outputs": [
    {
     "ename": "NameError",
     "evalue": "name 'df_copy' is not defined",
     "output_type": "error",
     "traceback": [
      "\u001b[0;31m---------------------------------------------------------------------------\u001b[0m",
      "\u001b[0;31mNameError\u001b[0m                                 Traceback (most recent call last)",
      "Cell \u001b[0;32mIn[12], line 2\u001b[0m\n\u001b[1;32m      1\u001b[0m \u001b[38;5;66;03m# numerical feature\u001b[39;00m\n\u001b[0;32m----> 2\u001b[0m numerical_feature \u001b[38;5;241m=\u001b[39m {feature \u001b[38;5;28;01mfor\u001b[39;00m feature \u001b[38;5;129;01min\u001b[39;00m \u001b[43mdf_copy\u001b[49m\u001b[38;5;241m.\u001b[39mcolumns \u001b[38;5;28;01mif\u001b[39;00m df_copy[feature]\u001b[38;5;241m.\u001b[39mdtypes \u001b[38;5;241m!=\u001b[39m \u001b[38;5;124m'\u001b[39m\u001b[38;5;124mO\u001b[39m\u001b[38;5;124m'\u001b[39m}\n\u001b[1;32m      3\u001b[0m \u001b[38;5;28mprint\u001b[39m(\u001b[38;5;124mf\u001b[39m\u001b[38;5;124m'\u001b[39m\u001b[38;5;124mCount of Numerical feature: \u001b[39m\u001b[38;5;132;01m{\u001b[39;00m\u001b[38;5;28mlen\u001b[39m(numerical_feature)\u001b[38;5;132;01m}\u001b[39;00m\u001b[38;5;124m'\u001b[39m)\n\u001b[1;32m      4\u001b[0m \u001b[38;5;28mprint\u001b[39m(\u001b[38;5;124mf\u001b[39m\u001b[38;5;124m'\u001b[39m\u001b[38;5;124mNumerical feature are:\u001b[39m\u001b[38;5;130;01m\\n\u001b[39;00m\u001b[38;5;124m \u001b[39m\u001b[38;5;132;01m{\u001b[39;00mnumerical_feature\u001b[38;5;132;01m}\u001b[39;00m\u001b[38;5;124m'\u001b[39m)\n",
      "\u001b[0;31mNameError\u001b[0m: name 'df_copy' is not defined"
     ]
    }
   ],
   "source": [
    "# numerical feature\n",
    "numerical_feature = {feature for feature in df_copy.columns if df_copy[feature].dtypes != 'O'}\n",
    "print(f'Count of Numerical feature: {len(numerical_feature)}')\n",
    "print(f'Numerical feature are:\\n {numerical_feature}')"
   ]
  },
  {
   "cell_type": "code",
   "execution_count": null,
   "id": "a9495956",
   "metadata": {
    "execution": {
     "iopub.execute_input": "2024-01-19T13:16:42.526008Z",
     "iopub.status.busy": "2024-01-19T13:16:42.525603Z",
     "iopub.status.idle": "2024-01-19T13:16:42.533530Z",
     "shell.execute_reply": "2024-01-19T13:16:42.531429Z",
     "shell.execute_reply.started": "2024-01-19T13:16:42.525979Z"
    },
    "papermill": {
     "duration": null,
     "end_time": null,
     "exception": null,
     "start_time": null,
     "status": "pending"
    },
    "tags": []
   },
   "outputs": [],
   "source": [
    "# Categorical feature\n",
    "categorical_feature = {feature for feature in df_copy.columns if df_copy[feature].dtypes == 'O'}\n",
    "print(f'Count of Categorical feature: {len(categorical_feature)}')\n",
    "print(f'Categorical feature are:\\n {categorical_feature}')"
   ]
  },
  {
   "cell_type": "markdown",
   "id": "14d53491",
   "metadata": {
    "papermill": {
     "duration": null,
     "end_time": null,
     "exception": null,
     "start_time": null,
     "status": "pending"
    },
    "tags": []
   },
   "source": [
    "## 2.6 Dữ liệu bị thiếu (Missing Data)"
   ]
  },
  {
   "cell_type": "code",
   "execution_count": null,
   "id": "f500546a",
   "metadata": {
    "execution": {
     "iopub.execute_input": "2024-01-19T13:16:46.108847Z",
     "iopub.status.busy": "2024-01-19T13:16:46.108425Z",
     "iopub.status.idle": "2024-01-19T13:16:46.556254Z",
     "shell.execute_reply": "2024-01-19T13:16:46.554793Z",
     "shell.execute_reply.started": "2024-01-19T13:16:46.108814Z"
    },
    "papermill": {
     "duration": null,
     "end_time": null,
     "exception": null,
     "start_time": null,
     "status": "pending"
    },
    "tags": []
   },
   "outputs": [],
   "source": [
    "missing = pd.DataFrame((df.isnull().sum())*100/df.shape[0]).reset_index()\n",
    "plt.figure(figsize=(16,5))\n",
    "ax = sns.pointplot(x='index',y=0,data=missing)\n",
    "plt.xticks(rotation =90,fontsize =7)\n",
    "plt.title(\"Percentage of Missing values\")\n",
    "plt.ylabel(\"PERCENTAGE\")\n",
    "plt.show()"
   ]
  },
  {
   "cell_type": "code",
   "execution_count": null,
   "id": "5023a5c4",
   "metadata": {
    "execution": {
     "iopub.execute_input": "2024-01-19T13:16:50.639202Z",
     "iopub.status.busy": "2024-01-19T13:16:50.638782Z",
     "iopub.status.idle": "2024-01-19T13:16:50.671442Z",
     "shell.execute_reply": "2024-01-19T13:16:50.669765Z",
     "shell.execute_reply.started": "2024-01-19T13:16:50.639168Z"
    },
    "papermill": {
     "duration": null,
     "end_time": null,
     "exception": null,
     "start_time": null,
     "status": "pending"
    },
    "tags": []
   },
   "outputs": [],
   "source": [
    "df_copy.TotalCharges = pd.to_numeric(df_copy.TotalCharges, errors='coerce')\n",
    "df_copy.isnull().sum()"
   ]
  },
  {
   "cell_type": "code",
   "execution_count": null,
   "id": "3a43bd2e",
   "metadata": {
    "execution": {
     "iopub.execute_input": "2024-01-19T13:16:53.991472Z",
     "iopub.status.busy": "2024-01-19T13:16:53.991001Z",
     "iopub.status.idle": "2024-01-19T13:16:54.029748Z",
     "shell.execute_reply": "2024-01-19T13:16:54.028337Z",
     "shell.execute_reply.started": "2024-01-19T13:16:53.991439Z"
    },
    "papermill": {
     "duration": null,
     "end_time": null,
     "exception": null,
     "start_time": null,
     "status": "pending"
    },
    "tags": []
   },
   "outputs": [],
   "source": [
    "df_copy.loc[df_copy ['TotalCharges'].isnull() == True]"
   ]
  },
  {
   "cell_type": "markdown",
   "id": "2ce63caa",
   "metadata": {
    "papermill": {
     "duration": null,
     "end_time": null,
     "exception": null,
     "start_time": null,
     "status": "pending"
    },
    "tags": []
   },
   "source": [
    "### a. Thay NaN với giá trị trung bình "
   ]
  },
  {
   "cell_type": "code",
   "execution_count": null,
   "id": "41fd8c00",
   "metadata": {
    "execution": {
     "iopub.execute_input": "2024-01-19T13:17:57.931403Z",
     "iopub.status.busy": "2024-01-19T13:17:57.930944Z",
     "iopub.status.idle": "2024-01-19T13:17:57.939974Z",
     "shell.execute_reply": "2024-01-19T13:17:57.938432Z",
     "shell.execute_reply.started": "2024-01-19T13:17:57.931360Z"
    },
    "papermill": {
     "duration": null,
     "end_time": null,
     "exception": null,
     "start_time": null,
     "status": "pending"
    },
    "tags": []
   },
   "outputs": [],
   "source": [
    "# replace NaN values with mean value\n",
    "df_copy.TotalCharges = df_copy.TotalCharges.fillna(df_copy.TotalCharges.median())"
   ]
  },
  {
   "cell_type": "code",
   "execution_count": null,
   "id": "fdeb9a64",
   "metadata": {
    "execution": {
     "iopub.execute_input": "2024-01-19T13:18:14.147936Z",
     "iopub.status.busy": "2024-01-19T13:18:14.147513Z",
     "iopub.status.idle": "2024-01-19T13:18:14.397508Z",
     "shell.execute_reply": "2024-01-19T13:18:14.396054Z",
     "shell.execute_reply.started": "2024-01-19T13:18:14.147906Z"
    },
    "papermill": {
     "duration": null,
     "end_time": null,
     "exception": null,
     "start_time": null,
     "status": "pending"
    },
    "tags": []
   },
   "outputs": [],
   "source": [
    "df_copy.TotalCharges.hist()"
   ]
  },
  {
   "cell_type": "markdown",
   "id": "48778907",
   "metadata": {
    "papermill": {
     "duration": null,
     "end_time": null,
     "exception": null,
     "start_time": null,
     "status": "pending"
    },
    "tags": []
   },
   "source": [
    "### b. Loại bỏ cột không cần thiết"
   ]
  },
  {
   "cell_type": "code",
   "execution_count": null,
   "id": "2c77ba09",
   "metadata": {
    "execution": {
     "iopub.execute_input": "2024-01-19T13:18:31.334046Z",
     "iopub.status.busy": "2024-01-19T13:18:31.333575Z",
     "iopub.status.idle": "2024-01-19T13:18:31.364712Z",
     "shell.execute_reply": "2024-01-19T13:18:31.363385Z",
     "shell.execute_reply.started": "2024-01-19T13:18:31.334010Z"
    },
    "papermill": {
     "duration": null,
     "end_time": null,
     "exception": null,
     "start_time": null,
     "status": "pending"
    },
    "tags": []
   },
   "outputs": [],
   "source": [
    "df_copy.drop(columns= ['customerID'], axis=1, inplace=True)\n",
    "df_copy.head()"
   ]
  },
  {
   "cell_type": "markdown",
   "id": "510d85b8",
   "metadata": {
    "papermill": {
     "duration": null,
     "end_time": null,
     "exception": null,
     "start_time": null,
     "status": "pending"
    },
    "tags": []
   },
   "source": [
    "# 3. DATA EXPLORATION"
   ]
  },
  {
   "cell_type": "code",
   "execution_count": null,
   "id": "5400516a",
   "metadata": {
    "execution": {
     "iopub.execute_input": "2024-01-19T13:18:38.113076Z",
     "iopub.status.busy": "2024-01-19T13:18:38.112649Z",
     "iopub.status.idle": "2024-01-19T13:18:39.890386Z",
     "shell.execute_reply": "2024-01-19T13:18:39.889215Z",
     "shell.execute_reply.started": "2024-01-19T13:18:38.113045Z"
    },
    "papermill": {
     "duration": null,
     "end_time": null,
     "exception": null,
     "start_time": null,
     "status": "pending"
    },
    "tags": []
   },
   "outputs": [],
   "source": [
    "### Vẽ biểu đồ đặc trưng số với phân bố xác suất và kiểm tra ngoại lệ\n",
    "for feature in numerical_feature:\n",
    "    if feature != 'SeniorCitizen':\n",
    "        plt.figure(figsize=(15,7))\n",
    "    \n",
    "        plt.subplot(1, 3, 1)\n",
    "        sns.histplot(data=df_copy, x=feature, bins=30, kde=True)\n",
    "        plt.title('Histogram')\n",
    "    \n",
    "        plt.subplot(1, 3, 2)\n",
    "        stats.probplot(df_copy[feature], dist=\"norm\", plot=plt)\n",
    "        plt.ylabel('RM quantiles')\n",
    "    \n",
    "        plt.subplot(1, 3, 3)\n",
    "        sns.boxplot(x=df_copy[feature])\n",
    "        plt.title('Boxplot')\n",
    "    \n",
    "plt.show()"
   ]
  },
  {
   "cell_type": "markdown",
   "id": "220720a0",
   "metadata": {
    "papermill": {
     "duration": null,
     "end_time": null,
     "exception": null,
     "start_time": null,
     "status": "pending"
    },
    "tags": []
   },
   "source": [
    "Sau khi vẽ biểu đồ phân phối xác suất biểu đồ và biểu đồ hộp để tìm giá trị số có phân bố chuẩn và tập dữ liệu của chúng tôi không có tập dữ liệu ngoại lệ. Vì vậy, chúng tôi không muốn xóa ngoại lệ trong tập dữ liệu của mình"
   ]
  },
  {
   "cell_type": "code",
   "execution_count": null,
   "id": "4ae32de2",
   "metadata": {
    "execution": {
     "iopub.execute_input": "2024-01-19T13:18:47.153090Z",
     "iopub.status.busy": "2024-01-19T13:18:47.152661Z",
     "iopub.status.idle": "2024-01-19T13:18:54.275643Z",
     "shell.execute_reply": "2024-01-19T13:18:54.274440Z",
     "shell.execute_reply.started": "2024-01-19T13:18:47.153057Z"
    },
    "papermill": {
     "duration": null,
     "end_time": null,
     "exception": null,
     "start_time": null,
     "status": "pending"
    },
    "tags": []
   },
   "outputs": [],
   "source": [
    "sns.pairplot(df_copy.drop(columns='SeniorCitizen'),hue='Churn', kind='scatter')\n",
    "plt.show()"
   ]
  },
  {
   "cell_type": "code",
   "execution_count": null,
   "id": "2b7ec818",
   "metadata": {
    "execution": {
     "iopub.execute_input": "2024-01-19T13:18:58.111085Z",
     "iopub.status.busy": "2024-01-19T13:18:58.110368Z",
     "iopub.status.idle": "2024-01-19T13:18:58.269042Z",
     "shell.execute_reply": "2024-01-19T13:18:58.266740Z",
     "shell.execute_reply.started": "2024-01-19T13:18:58.111050Z"
    },
    "papermill": {
     "duration": null,
     "end_time": null,
     "exception": null,
     "start_time": null,
     "status": "pending"
    },
    "tags": []
   },
   "outputs": [],
   "source": [
    "# pie chart for Count of Senior citizens\n",
    "ax = (df_copy['SeniorCitizen'].value_counts()*100.0 /len(df_copy)).plot.pie(autopct='%.1f%%', labels = ['No', 'Yes'],figsize =(5,5), fontsize = 12 )                                                                           \n",
    "ax.yaxis.set_major_formatter(mtick.PercentFormatter())\n",
    "ax.set_ylabel('Senior Citizens',fontsize = 12)\n",
    "ax.set_title('% of Senior Citizens', fontsize = 12)"
   ]
  },
  {
   "cell_type": "markdown",
   "id": "7ec5d855",
   "metadata": {
    "papermill": {
     "duration": null,
     "end_time": null,
     "exception": null,
     "start_time": null,
     "status": "pending"
    },
    "tags": []
   },
   "source": [
    "Chỉ 16,2% khách hàng là người cao tuổi nhưng 83,8% khách hàng còn lại là giới trẻ"
   ]
  },
  {
   "cell_type": "markdown",
   "id": "4d7513f4",
   "metadata": {
    "papermill": {
     "duration": null,
     "end_time": null,
     "exception": null,
     "start_time": null,
     "status": "pending"
    },
    "tags": []
   },
   "source": [
    "## 3.1 Biểu đồ phân phối các yếu tố dự đoán riêng lẻ theo tỷ lệ rời bỏ"
   ]
  },
  {
   "cell_type": "code",
   "execution_count": null,
   "id": "6572c871",
   "metadata": {
    "execution": {
     "iopub.execute_input": "2024-01-19T13:19:01.791981Z",
     "iopub.status.busy": "2024-01-19T13:19:01.791516Z",
     "iopub.status.idle": "2024-01-19T13:19:06.773652Z",
     "shell.execute_reply": "2024-01-19T13:19:06.772267Z",
     "shell.execute_reply.started": "2024-01-19T13:19:01.791945Z"
    },
    "papermill": {
     "duration": null,
     "end_time": null,
     "exception": null,
     "start_time": null,
     "status": "pending"
    },
    "tags": []
   },
   "outputs": [],
   "source": [
    "for i, feature in enumerate(categorical_feature):\n",
    "    if feature != 'TotalCharges':\n",
    "        if feature != 'customerID':\n",
    "            plt.figure(i)\n",
    "            plt.figure(figsize=(12,6))\n",
    "            sns.countplot(data=df_copy, x=feature, hue='Churn')\n",
    "plt.show()"
   ]
  },
  {
   "cell_type": "markdown",
   "id": "98de0ea7",
   "metadata": {
    "papermill": {
     "duration": null,
     "end_time": null,
     "exception": null,
     "start_time": null,
     "status": "pending"
    },
    "tags": []
   },
   "source": [
    "## 3.2 Chuyển đổi kiểu dữ liệu cột Churn"
   ]
  },
  {
   "cell_type": "code",
   "execution_count": null,
   "id": "b8bea101",
   "metadata": {
    "execution": {
     "iopub.execute_input": "2024-01-19T13:19:12.001482Z",
     "iopub.status.busy": "2024-01-19T13:19:12.000219Z",
     "iopub.status.idle": "2024-01-19T13:19:12.032170Z",
     "shell.execute_reply": "2024-01-19T13:19:12.031098Z",
     "shell.execute_reply.started": "2024-01-19T13:19:12.001427Z"
    },
    "papermill": {
     "duration": null,
     "end_time": null,
     "exception": null,
     "start_time": null,
     "status": "pending"
    },
    "tags": []
   },
   "outputs": [],
   "source": [
    "df_copy['Churn'] = np.where(df_copy.Churn == 'Yes',1,0)\n",
    "df_copy.head()"
   ]
  },
  {
   "cell_type": "markdown",
   "id": "57d2737d",
   "metadata": {
    "papermill": {
     "duration": null,
     "end_time": null,
     "exception": null,
     "start_time": null,
     "status": "pending"
    },
    "tags": []
   },
   "source": [
    "## 3.3 Tạo biến giả"
   ]
  },
  {
   "cell_type": "code",
   "execution_count": null,
   "id": "077a7d02",
   "metadata": {
    "execution": {
     "iopub.execute_input": "2024-01-19T13:19:22.648811Z",
     "iopub.status.busy": "2024-01-19T13:19:22.648367Z",
     "iopub.status.idle": "2024-01-19T13:19:22.705047Z",
     "shell.execute_reply": "2024-01-19T13:19:22.703855Z",
     "shell.execute_reply.started": "2024-01-19T13:19:22.648777Z"
    },
    "papermill": {
     "duration": null,
     "end_time": null,
     "exception": null,
     "start_time": null,
     "status": "pending"
    },
    "tags": []
   },
   "outputs": [],
   "source": [
    "df_copy_dummies = pd.get_dummies(df_copy)\n",
    "df_copy_dummies.head()"
   ]
  },
  {
   "cell_type": "markdown",
   "id": "bcc74bec",
   "metadata": {
    "papermill": {
     "duration": null,
     "end_time": null,
     "exception": null,
     "start_time": null,
     "status": "pending"
    },
    "tags": []
   },
   "source": [
    "## 3.4 Mối quan hệ giữa Monthly Charges và Total Charges"
   ]
  },
  {
   "cell_type": "code",
   "execution_count": null,
   "id": "1374cd1e",
   "metadata": {
    "execution": {
     "iopub.execute_input": "2024-01-19T13:19:27.569707Z",
     "iopub.status.busy": "2024-01-19T13:19:27.568679Z",
     "iopub.status.idle": "2024-01-19T13:19:28.002489Z",
     "shell.execute_reply": "2024-01-19T13:19:28.001477Z",
     "shell.execute_reply.started": "2024-01-19T13:19:27.569666Z"
    },
    "papermill": {
     "duration": null,
     "end_time": null,
     "exception": null,
     "start_time": null,
     "status": "pending"
    },
    "tags": []
   },
   "outputs": [],
   "source": [
    "sns.lmplot(data=df_copy_dummies, x='MonthlyCharges', y='TotalCharges', \n",
    "           fit_reg=False)"
   ]
  },
  {
   "cell_type": "markdown",
   "id": "fd969a74",
   "metadata": {
    "papermill": {
     "duration": null,
     "end_time": null,
     "exception": null,
     "start_time": null,
     "status": "pending"
    },
    "tags": []
   },
   "source": [
    "Total Charges increase as Monthly Charges increase - as expected."
   ]
  },
  {
   "cell_type": "markdown",
   "id": "6dc00eb3",
   "metadata": {
    "papermill": {
     "duration": null,
     "end_time": null,
     "exception": null,
     "start_time": null,
     "status": "pending"
    },
    "tags": []
   },
   "source": [
    "### a. Chi trả hàng tháng theo tỷ lệ rời bỏ"
   ]
  },
  {
   "cell_type": "code",
   "execution_count": null,
   "id": "bc5b32a1",
   "metadata": {
    "execution": {
     "iopub.execute_input": "2024-01-19T13:19:35.057481Z",
     "iopub.status.busy": "2024-01-19T13:19:35.056868Z",
     "iopub.status.idle": "2024-01-19T13:19:35.634485Z",
     "shell.execute_reply": "2024-01-19T13:19:35.633460Z",
     "shell.execute_reply.started": "2024-01-19T13:19:35.057430Z"
    },
    "papermill": {
     "duration": null,
     "end_time": null,
     "exception": null,
     "start_time": null,
     "status": "pending"
    },
    "tags": []
   },
   "outputs": [],
   "source": [
    "Mth=sns.kdeplot(df_copy_dummies.MonthlyCharges[(df_copy_dummies[\"Churn\"] == 0)],\n",
    "                color=\"Red\", shade = True)\n",
    "Mth=sns.kdeplot(df_copy_dummies.MonthlyCharges[(df_copy_dummies[\"Churn\"] == 1)],\n",
    "                ax =Mth, color=\"Blue\", shade= True)\n",
    "Mth.legend([\"No Churn\",\"Churn\"],loc='upper right')\n",
    "Mth.set_ylabel('Density')\n",
    "Mth.set_xlabel('Monthly Charges')\n",
    "Mth.set_title('Monthly charges by churn')"
   ]
  },
  {
   "cell_type": "markdown",
   "id": "04a94621",
   "metadata": {
    "papermill": {
     "duration": null,
     "end_time": null,
     "exception": null,
     "start_time": null,
     "status": "pending"
    },
    "tags": []
   },
   "source": [
    "**Insight:** Churn cao khi Monthly Charges cao"
   ]
  },
  {
   "cell_type": "markdown",
   "id": "ff12b6d0",
   "metadata": {
    "papermill": {
     "duration": null,
     "end_time": null,
     "exception": null,
     "start_time": null,
     "status": "pending"
    },
    "tags": []
   },
   "source": [
    "### b. Tổng chi trả theo tỷ lệ rời bỏ"
   ]
  },
  {
   "cell_type": "code",
   "execution_count": null,
   "id": "aace1321",
   "metadata": {
    "execution": {
     "iopub.execute_input": "2024-01-19T13:19:45.119162Z",
     "iopub.status.busy": "2024-01-19T13:19:45.118680Z",
     "iopub.status.idle": "2024-01-19T13:19:45.622488Z",
     "shell.execute_reply": "2024-01-19T13:19:45.621285Z",
     "shell.execute_reply.started": "2024-01-19T13:19:45.119125Z"
    },
    "papermill": {
     "duration": null,
     "end_time": null,
     "exception": null,
     "start_time": null,
     "status": "pending"
    },
    "tags": []
   },
   "outputs": [],
   "source": [
    "Mth=sns.kdeplot(df_copy_dummies.TotalCharges[(df_copy_dummies[\"Churn\"] == 0)],\n",
    "                color=\"Red\", shade = True)\n",
    "Mth=sns.kdeplot(df_copy_dummies.TotalCharges[(df_copy_dummies[\"Churn\"] == 1)],\n",
    "                ax =Mth, color=\"Blue\", shade= True)\n",
    "Mth.legend([\"No Churn\",\"Churn\"],loc='upper right')\n",
    "Mth.set_ylabel('Density')\n",
    "Mth.set_xlabel('Total Charges')\n",
    "Mth.set_title('Total charges by churn')"
   ]
  },
  {
   "cell_type": "markdown",
   "id": "191d6bfe",
   "metadata": {
    "papermill": {
     "duration": null,
     "end_time": null,
     "exception": null,
     "start_time": null,
     "status": "pending"
    },
    "tags": []
   },
   "source": [
    "Tỷ lệ rời bỏ cao hơn với Tổng chi phí thấp hơn\n",
    "\n",
    "Tuy nhiên, nếu kết hợp thông tin chuyên sâu về 3 thông số, Thời hạn, Phí hàng tháng & Tổng phí thì bức tranh sẽ hơi rõ ràng: - Phí hàng tháng cao hơn ở thời hạn sử dụng thấp hơn sẽ dẫn đến Tổng phí thấp hơn. Do đó, tất cả 3 yếu tố này bao gồm **Phí hàng tháng cao hơn**, **Quyền sử dụng thấp hơn** và **Tổng phí thấp hơn** đều được liên kết với ** Tỷ lệ rời bỏ cao**."
   ]
  },
  {
   "cell_type": "markdown",
   "id": "46b09520",
   "metadata": {
    "papermill": {
     "duration": null,
     "end_time": null,
     "exception": null,
     "start_time": null,
     "status": "pending"
    },
    "tags": []
   },
   "source": [
    "## 3.5 Xây dựng mối quan hệ của các yếu tố dự đoán với tỷ lệ rời bỏ"
   ]
  },
  {
   "cell_type": "code",
   "execution_count": null,
   "id": "36e0e3e4",
   "metadata": {
    "execution": {
     "iopub.execute_input": "2024-01-19T13:19:51.851000Z",
     "iopub.status.busy": "2024-01-19T13:19:51.850518Z",
     "iopub.status.idle": "2024-01-19T13:19:52.743881Z",
     "shell.execute_reply": "2024-01-19T13:19:52.742153Z",
     "shell.execute_reply.started": "2024-01-19T13:19:51.850963Z"
    },
    "papermill": {
     "duration": null,
     "end_time": null,
     "exception": null,
     "start_time": null,
     "status": "pending"
    },
    "tags": []
   },
   "outputs": [],
   "source": [
    "plt.figure(figsize=(20,8))\n",
    "df_copy_dummies.corr()['Churn'].sort_values(ascending = False).plot(kind='bar')"
   ]
  },
  {
   "cell_type": "markdown",
   "id": "c200bb86",
   "metadata": {
    "papermill": {
     "duration": null,
     "end_time": null,
     "exception": null,
     "start_time": null,
     "status": "pending"
    },
    "tags": []
   },
   "source": [
    "## 3.6 Heatmap"
   ]
  },
  {
   "cell_type": "code",
   "execution_count": null,
   "id": "54f5707b",
   "metadata": {
    "execution": {
     "iopub.execute_input": "2024-01-19T13:19:57.138991Z",
     "iopub.status.busy": "2024-01-19T13:19:57.138536Z",
     "iopub.status.idle": "2024-01-19T13:19:58.623614Z",
     "shell.execute_reply": "2024-01-19T13:19:58.622409Z",
     "shell.execute_reply.started": "2024-01-19T13:19:57.138955Z"
    },
    "papermill": {
     "duration": null,
     "end_time": null,
     "exception": null,
     "start_time": null,
     "status": "pending"
    },
    "tags": []
   },
   "outputs": [],
   "source": [
    "plt.figure(figsize=(12,12))\n",
    "sns.heatmap(df_copy_dummies.corr(), cmap=\"RdBu\")"
   ]
  }
 ],
 "metadata": {
  "kaggle": {
   "accelerator": "none",
   "dataSources": [
    {
     "datasetId": 4326914,
     "sourceId": 7434945,
     "sourceType": "datasetVersion"
    }
   ],
   "dockerImageVersionId": 30635,
   "isGpuEnabled": false,
   "isInternetEnabled": false,
   "language": "python",
   "sourceType": "notebook"
  },
  "kernelspec": {
   "display_name": "Python 3",
   "language": "python",
   "name": "python3"
  },
  "language_info": {
   "codemirror_mode": {
    "name": "ipython",
    "version": 3
   },
   "file_extension": ".py",
   "mimetype": "text/x-python",
   "name": "python",
   "nbconvert_exporter": "python",
   "pygments_lexer": "ipython3",
   "version": "3.10.12"
  },
  "papermill": {
   "default_parameters": {},
   "duration": 8.178793,
   "end_time": "2024-01-19T13:23:48.410056",
   "environment_variables": {},
   "exception": true,
   "input_path": "__notebook__.ipynb",
   "output_path": "__notebook__.ipynb",
   "parameters": {},
   "start_time": "2024-01-19T13:23:40.231263",
   "version": "2.4.0"
  }
 },
 "nbformat": 4,
 "nbformat_minor": 5
}
